{
 "cells": [
  {
   "cell_type": "markdown",
   "metadata": {
    "collapsed": true
   },
   "source": [
    "### Wide & Deep 튜토리얼 버전"
   ]
  },
  {
   "cell_type": "code",
   "execution_count": 2,
   "metadata": {},
   "outputs": [],
   "source": [
    "import tensorflow as tf\n",
    "import numpy as np\n",
    "import pandas as pd\n",
    "import sklearn.preprocessing\n",
    "from python_splitters import python_random_split\n"
   ]
  },
  {
   "cell_type": "code",
   "execution_count": 45,
   "metadata": {
    "collapsed": false
   },
   "outputs": [
    {
     "name": "stdout",
     "output_type": "stream",
     "text": [
      "df_data::: \n   userid movieid  rating  timestamp  release_date  genre_unknown  action  \\\n0    196     242       3  881250949          1997              0       0   \n1    196     257       2  881251577          1997              0       1   \n2    196     111       4  881251793          1996              0       0   \n3    196      25       4  881251955          1996              0       0   \n4    196     382       4  881251843          1994              0       0   \n\n   adventure  animation  children  ...  mystery  romance  sci-fi  thriller  \\\n0          0          0         0  ...        0        0       0         0   \n1          1          0         0  ...        0        0       1         0   \n2          0          0         0  ...        0        1       0         0   \n3          0          0         0  ...        0        0       0         0   \n4          0          0         0  ...        0        0       0         0   \n\n   war  western  age  gender  occupation  zip_code  \n0    0        0   49       M      writer     55105  \n1    0        0   49       M      writer     55105  \n2    0        0   49       M      writer     55105  \n3    0        0   49       M      writer     55105  \n4    0        0   49       M      writer     55105  \n\n[5 rows x 28 columns]\n"
     ]
    }
   ],
   "source": [
    "#######################\n",
    "# Dataset 100K 용 세팅\n",
    "#######################\n",
    "\n",
    "# Load each data set (users, movies, and ratings).\n",
    "users_cols = ['userid', 'age', 'gender', 'occupation', 'zip_code']\n",
    "users = pd.read_csv('./data/100K/u.user', sep='|', names=users_cols, encoding='latin-1')\n",
    "\n",
    "ratings_cols = ['userid', 'movieid', 'rating', 'timestamp']\n",
    "ratings = pd.read_csv('./data/100K/u.data', sep='\\t', names=ratings_cols, encoding='latin-1')\n",
    "\n",
    "# The movies file contains a binary feature for each genre.\n",
    "genre_cols = [\n",
    "    \"genre_unknown\", \"action\", \"adventure\", \"animation\", \"children\", \"comedy\",\n",
    "    \"crime\", \"documentary\", \"drama\", \"fantasy\", \"film-noir\", \"horror\",\n",
    "    \"musical\", \"mystery\", \"romance\", \"sci-fi\", \"thriller\", \"war\", \"western\"\n",
    "]\n",
    "movies_cols = [\n",
    "    'movieid', 'title', 'release_date', \"video_release_date\", \"imdb_url\"\n",
    "] + genre_cols\n",
    "movies = pd.read_csv(\n",
    "    './data/100K/u.item', sep='|', names=movies_cols, encoding='latin-1')\n",
    "\n",
    "movies = movies.dropna(subset=['release_date'])\n",
    "\n",
    "users[\"userid\"] = users['userid'].apply(lambda x: str(x))\n",
    "users[\"zip_code\"] = users['zip_code'].apply(lambda x: str(x))\n",
    "ratings[\"userid\"] = ratings['userid'].apply(lambda x: str(x))\n",
    "ratings[\"movieid\"] = ratings['movieid'].apply(lambda x: str(x))\n",
    "movies[\"movieid\"] = movies['movieid'].apply(lambda x: str(x))\n",
    "movies[\"release_date\"] = movies['release_date'].apply(lambda x: int(str(x).split('-')[-1]))\n",
    "\n",
    "# Create one merged DataFrame containing all the movielens data.\n",
    "df_data = ratings.merge(movies, on='movieid').merge(users, on='userid')\n",
    "\n",
    "# df_data[\"release_date\"] = df_data['release_date'].apply(lambda x: int(x))\n",
    "\n",
    "df_data = df_data.drop('title', axis=1)\n",
    "df_data = df_data.drop('video_release_date', axis=1)\n",
    "df_data = df_data.drop('imdb_url', axis=1) \n",
    "\n",
    "print(\"df_data::: \\n\", df_data.head())"
   ]
  },
  {
   "cell_type": "code",
   "execution_count": 46,
   "metadata": {},
   "outputs": [],
   "source": [
    "# Categorical base columns.\n",
    "userid = tf.contrib.layers.sparse_column_with_hash_bucket(\"userid\", hash_bucket_size=100)\n",
    "movieid = tf.contrib.layers.sparse_column_with_hash_bucket(\"movieid\", hash_bucket_size=100)\n",
    "gender = tf.contrib.layers.sparse_column_with_keys(column_name=\"gender\", keys=[\"M\", \"W\"])\n",
    "# genre = tf.contrib.layers.sparse_column_with_keys(column_name=\"genre\", keys=[\n",
    "#   \"genre_unknown\", \"action\", \"adventure\", \"animation\", \"children\", \"comedy\",\n",
    "#     \"crime\", \"documentary\", \"drama\", \"fantasy\", \"film-noir\", \"horror\",\n",
    "#     \"musical\", \"mystery\", \"romance\", \"sci-fi\", \"thriller\", \"war\", \"western\"])\n",
    "occupation = tf.contrib.layers.sparse_column_with_hash_bucket(\"occupation\", hash_bucket_size=1000)\n",
    "zip_code = tf.contrib.layers.sparse_column_with_hash_bucket(\"zip_code\", hash_bucket_size=100)\n",
    "\n",
    "# Continuous base columns.\n",
    "age = tf.contrib.layers.real_valued_column(\"age\")\n",
    "age_buckets = tf.contrib.layers.bucketized_column(age, boundaries=[18, 25, 30, 35, 40, 45, 50, 55, 60, 65])\n",
    "release_date = tf.contrib.layers.real_valued_column(\"release_date\")\n",
    "\n",
    "genre_unknown = tf.contrib.layers.real_valued_column(\"genre_unknown\")\n",
    "action = tf.contrib.layers.real_valued_column(\"action\")\n",
    "adventure = tf.contrib.layers.real_valued_column(\"adventure\")\n",
    "animation = tf.contrib.layers.real_valued_column(\"animation\")\n",
    "children = tf.contrib.layers.real_valued_column(\"children\")\n",
    "comedy = tf.contrib.layers.real_valued_column(\"comedy\")\n",
    "crime = tf.contrib.layers.real_valued_column(\"crime\")\n",
    "documentary = tf.contrib.layers.real_valued_column(\"documentary\")\n",
    "drama = tf.contrib.layers.real_valued_column(\"drama\")\n",
    "fantasy = tf.contrib.layers.real_valued_column(\"fantasy\")\n",
    "filmnoir = tf.contrib.layers.real_valued_column(\"film-noir\")\n",
    "horror = tf.contrib.layers.real_valued_column(\"horror\")\n",
    "musical = tf.contrib.layers.real_valued_column(\"musical\")\n",
    "mystery = tf.contrib.layers.real_valued_column(\"mystery\")\n",
    "romance = tf.contrib.layers.real_valued_column(\"romance\")\n",
    "scifi = tf.contrib.layers.real_valued_column(\"sci-fi\")\n",
    "thriller = tf.contrib.layers.real_valued_column(\"thriller\")\n",
    "war = tf.contrib.layers.real_valued_column(\"war\")\n",
    "western = tf.contrib.layers.real_valued_column(\"western\")"
   ]
  },
  {
   "cell_type": "code",
   "execution_count": 47,
   "metadata": {},
   "outputs": [],
   "source": [
    "wide_columns = [userid, movieid, gender, occupation, zip_code, release_date, age_buckets, \n",
    "                genre_unknown, action, adventure, animation, children, comedy, crime, documentary, drama, \n",
    "                fantasy, filmnoir, horror, musical, mystery, romance, scifi, thriller, war, western,  \n",
    "  tf.contrib.layers.crossed_column([userid, movieid], hash_bucket_size=int(1e4))\n",
    "]"
   ]
  },
  {
   "cell_type": "code",
   "execution_count": 48,
   "metadata": {},
   "outputs": [
    {
     "name": "stderr",
     "output_type": "stream",
     "text": [
      "W0819 20:53:19.848343  1156 feature_column.py:1091] The default stddev value of initializer was changed from \"1/sqrt(vocab_size)\" to \"1/sqrt(dimension)\" in core implementation (tf.feature_column.embedding_column).\n"
     ]
    },
    {
     "name": "stderr",
     "output_type": "stream",
     "text": [
      "W0819 20:53:19.850338  1156 feature_column.py:1091] The default stddev value of initializer was changed from \"1/sqrt(vocab_size)\" to \"1/sqrt(dimension)\" in core implementation (tf.feature_column.embedding_column).\n"
     ]
    },
    {
     "name": "stderr",
     "output_type": "stream",
     "text": [
      "W0819 20:53:19.851335  1156 feature_column.py:1091] The default stddev value of initializer was changed from \"1/sqrt(vocab_size)\" to \"1/sqrt(dimension)\" in core implementation (tf.feature_column.embedding_column).\n"
     ]
    },
    {
     "name": "stderr",
     "output_type": "stream",
     "text": [
      "W0819 20:53:19.853331  1156 feature_column.py:1091] The default stddev value of initializer was changed from \"1/sqrt(vocab_size)\" to \"1/sqrt(dimension)\" in core implementation (tf.feature_column.embedding_column).\n"
     ]
    }
   ],
   "source": [
    "deep_columns = [\n",
    "  tf.contrib.layers.embedding_column(userid, dimension=8),\n",
    "  tf.contrib.layers.embedding_column(movieid, dimension=8),\n",
    "  # tf.contrib.layers.embedding_column(genre, dimension=8),\n",
    "  tf.contrib.layers.embedding_column(gender, dimension=8),\n",
    "  tf.contrib.layers.embedding_column(occupation, dimension=8),\n",
    "  tf.contrib.layers.embedding_column(zip_code, dimension=8),\n",
    "  age, release_date, genre_unknown, action, adventure, animation, children, comedy, crime, documentary, drama, \n",
    "  fantasy, filmnoir, horror, musical, mystery, romance, scifi, thriller, war, western\n",
    "]"
   ]
  },
  {
   "cell_type": "code",
   "execution_count": 49,
   "metadata": {},
   "outputs": [],
   "source": [
    "import tempfile\n",
    "model_dir = tempfile.mkdtemp()\n",
    "m = tf.contrib.learn.DNNLinearCombinedClassifier(\n",
    "    model_dir=model_dir,\n",
    "    linear_feature_columns=wide_columns,\n",
    "    dnn_feature_columns=deep_columns,\n",
    "    dnn_hidden_units=[100, 50])"
   ]
  },
  {
   "cell_type": "code",
   "execution_count": null,
   "metadata": {
    "collapsed": true
   },
   "outputs": [
    {
     "name": "stdout",
     "output_type": "stream",
     "text": [
      "Train = 74993, test = 24998\n"
     ]
    },
    {
     "name": "stderr",
     "output_type": "stream",
     "text": [
      "D:\\01.Programming\\PycharmProjects\\Recommenders-movielens\\venv\\lib\\site-packages\\ipykernel_launcher.py:29: SettingWithCopyWarning: \nA value is trying to be set on a copy of a slice from a DataFrame.\nTry using .loc[row_indexer,col_indexer] = value instead\n\nSee the caveats in the documentation: http://pandas.pydata.org/pandas-docs/stable/indexing.html#indexing-view-versus-copy\nD:\\01.Programming\\PycharmProjects\\Recommenders-movielens\\venv\\lib\\site-packages\\ipykernel_launcher.py:30: SettingWithCopyWarning: \nA value is trying to be set on a copy of a slice from a DataFrame.\nTry using .loc[row_indexer,col_indexer] = value instead\n\nSee the caveats in the documentation: http://pandas.pydata.org/pandas-docs/stable/indexing.html#indexing-view-versus-copy\n"
     ]
    }
   ],
   "source": [
    "import pandas as pd\n",
    "import urllib\n",
    "\n",
    "# Define the column names for the data sets.\n",
    "COLUMNS = ['userid','movieid','occupation','gender','zip_code','age', 'release_date', \"genre_unknown\", \"action\", \"adventure\", \"animation\", \"children\", \"comedy\",\n",
    "    \"crime\", \"documentary\", \"drama\", \"fantasy\", \"film-noir\", \"horror\",\n",
    "    \"musical\", \"mystery\", \"romance\", \"sci-fi\", \"thriller\", \"war\", \"western\"]\n",
    "LABEL_COLUMN = 'rating'\n",
    "CATEGORICAL_COLUMNS = ['userid','movieid','occupation','gender','zip_code']\n",
    "CONTINUOUS_COLUMNS = ['age', 'release_date', \"genre_unknown\", \"action\", \"adventure\", \"animation\", \"children\", \"comedy\",\n",
    "    \"crime\", \"documentary\", \"drama\", \"fantasy\", \"film-noir\", \"horror\",\n",
    "    \"musical\", \"mystery\", \"romance\", \"sci-fi\", \"thriller\", \"war\", \"western\"]\n",
    "\n",
    "\n",
    "# Read the training and test data sets into Pandas dataframe.\n",
    "###############################\n",
    "# Train, Test 데이터 나누기\n",
    "###############################\n",
    "df_train, df_test = python_random_split(\n",
    "    df_data,\n",
    "    ratio=0.75,\n",
    "    seed=42\n",
    ")\n",
    "\n",
    "print(\"Train = {}, test = {}\".format(len(df_train), len(df_test)))\n",
    "\n",
    "# df_train = pd.read_csv(train_file, names=COLUMNS, skipinitialspace=True)\n",
    "# df_test = pd.read_csv(test_file, names=COLUMNS, skipinitialspace=True, skiprows=1)\n",
    "df_train[LABEL_COLUMN] = df_train['rating']\n",
    "df_test[LABEL_COLUMN] = df_test['rating']\n",
    "\n",
    "\n",
    "def input_fn(df):\n",
    "  # Creates a dictionary mapping from each continuous feature column name (k) to\n",
    "  # the values of that column stored in a constant Tensor.\n",
    "\n",
    "  continuous_cols = {k: tf.constant(df[k].values)\n",
    "                     for k in CONTINUOUS_COLUMNS}\n",
    "\n",
    "  # Creates a dictionary mapping from each categorical feature column name (k)\n",
    "  # to the values of that column stored in a tf.SparseTensor.\n",
    "  categorical_cols = {k: tf.SparseTensor(\n",
    "      indices=[[i, 0] for i in range(df[k].size)],\n",
    "      values=df[k].values,\n",
    "      dense_shape=[df[k].size, 1])\n",
    "                      for k in CATEGORICAL_COLUMNS}\n",
    "  \n",
    "  print(\"continuous_cols.items() ::: \", continuous_cols.items())\n",
    "  print(\"categorical_cols.items() ::: \", categorical_cols.items())\n",
    "  \n",
    "  # Merges the two dictionaries into one.\n",
    "  \n",
    "  # feature_cols = dict(continuous_cols.items() + categorical_cols.items())\n",
    "  feature_cols = {**continuous_cols, **categorical_cols}\n",
    "  \n",
    "  # Converts the label column into a constant Tensor.\n",
    "  label = tf.constant(df[LABEL_COLUMN].values)\n",
    "  \n",
    "  # Returns the feature columns and the label.\n",
    "  return feature_cols, label\n",
    "\n",
    "def train_input_fn():\n",
    "  return input_fn(df_train)\n",
    "\n",
    "def eval_input_fn():\n",
    "  return input_fn(df_test)\n",
    "\n",
    "print(\"train_input_fn ::: \", train_input_fn())"
   ]
  },
  {
   "cell_type": "code",
   "execution_count": 44,
   "metadata": {
    "collapsed": false
   },
   "outputs": [
    {
     "name": "stdout",
     "output_type": "stream",
     "text": [
      "continuous_cols.items() :::  dict_items([('age', <tf.Tensor 'Const:0' shape=(74993,) dtype=int64>), ('release_date', <tf.Tensor 'Const_1:0' shape=(74993,) dtype=int64>), ('genre_unknown', <tf.Tensor 'Const_2:0' shape=(74993,) dtype=int64>), ('action', <tf.Tensor 'Const_3:0' shape=(74993,) dtype=int64>), ('adventure', <tf.Tensor 'Const_4:0' shape=(74993,) dtype=int64>), ('animation', <tf.Tensor 'Const_5:0' shape=(74993,) dtype=int64>), ('children', <tf.Tensor 'Const_6:0' shape=(74993,) dtype=int64>), ('comedy', <tf.Tensor 'Const_7:0' shape=(74993,) dtype=int64>), ('crime', <tf.Tensor 'Const_8:0' shape=(74993,) dtype=int64>), ('documentary', <tf.Tensor 'Const_9:0' shape=(74993,) dtype=int64>), ('drama', <tf.Tensor 'Const_10:0' shape=(74993,) dtype=int64>), ('fantasy', <tf.Tensor 'Const_11:0' shape=(74993,) dtype=int64>), ('film-noir', <tf.Tensor 'Const_12:0' shape=(74993,) dtype=int64>), ('horror', <tf.Tensor 'Const_13:0' shape=(74993,) dtype=int64>), ('musical', <tf.Tensor 'Const_14:0' shape=(74993,) dtype=int64>), ('mystery', <tf.Tensor 'Const_15:0' shape=(74993,) dtype=int64>), ('romance', <tf.Tensor 'Const_16:0' shape=(74993,) dtype=int64>), ('sci-fi', <tf.Tensor 'Const_17:0' shape=(74993,) dtype=int64>), ('thriller', <tf.Tensor 'Const_18:0' shape=(74993,) dtype=int64>), ('war', <tf.Tensor 'Const_19:0' shape=(74993,) dtype=int64>), ('western', <tf.Tensor 'Const_20:0' shape=(74993,) dtype=int64>)])\ncategorical_cols.items() :::  dict_items([('userid', <tensorflow.python.framework.sparse_tensor.SparseTensor object at 0x0000027033E9E128>), ('movieid', <tensorflow.python.framework.sparse_tensor.SparseTensor object at 0x0000027033E9EAC8>), ('occupation', <tensorflow.python.framework.sparse_tensor.SparseTensor object at 0x0000027033E9E828>), ('gender', <tensorflow.python.framework.sparse_tensor.SparseTensor object at 0x0000027033E9EE80>), ('zip_code', <tensorflow.python.framework.sparse_tensor.SparseTensor object at 0x00000270341317B8>)])\n"
     ]
    },
    {
     "name": "stderr",
     "output_type": "stream",
     "text": [
      "W0819 20:47:25.275065  1156 feature_column.py:1674] Rank of input Tensor (1) should be the same as output_rank (2) for column. Will attempt to expand dims. It is highly recommended that you resize your input, as this behavior may change.\n"
     ]
    },
    {
     "name": "stderr",
     "output_type": "stream",
     "text": [
      "W0819 20:47:25.285043  1156 feature_column.py:1674] Rank of input Tensor (1) should be the same as output_rank (2) for column. Will attempt to expand dims. It is highly recommended that you resize your input, as this behavior may change.\n"
     ]
    },
    {
     "name": "stderr",
     "output_type": "stream",
     "text": [
      "W0819 20:47:25.292018  1156 feature_column.py:1674] Rank of input Tensor (1) should be the same as output_rank (2) for column. Will attempt to expand dims. It is highly recommended that you resize your input, as this behavior may change.\n"
     ]
    },
    {
     "name": "stderr",
     "output_type": "stream",
     "text": [
      "W0819 20:47:25.302992  1156 feature_column.py:1674] Rank of input Tensor (1) should be the same as output_rank (2) for column. Will attempt to expand dims. It is highly recommended that you resize your input, as this behavior may change.\n"
     ]
    },
    {
     "name": "stderr",
     "output_type": "stream",
     "text": [
      "W0819 20:47:25.310970  1156 feature_column.py:1674] Rank of input Tensor (1) should be the same as output_rank (2) for column. Will attempt to expand dims. It is highly recommended that you resize your input, as this behavior may change.\n"
     ]
    },
    {
     "name": "stderr",
     "output_type": "stream",
     "text": [
      "W0819 20:47:25.319945  1156 feature_column.py:1674] Rank of input Tensor (1) should be the same as output_rank (2) for column. Will attempt to expand dims. It is highly recommended that you resize your input, as this behavior may change.\n"
     ]
    },
    {
     "name": "stderr",
     "output_type": "stream",
     "text": [
      "W0819 20:47:25.325927  1156 feature_column.py:1674] Rank of input Tensor (1) should be the same as output_rank (2) for column. Will attempt to expand dims. It is highly recommended that you resize your input, as this behavior may change.\n"
     ]
    },
    {
     "name": "stderr",
     "output_type": "stream",
     "text": [
      "W0819 20:47:25.333908  1156 feature_column.py:1674] Rank of input Tensor (1) should be the same as output_rank (2) for column. Will attempt to expand dims. It is highly recommended that you resize your input, as this behavior may change.\n"
     ]
    },
    {
     "name": "stderr",
     "output_type": "stream",
     "text": [
      "W0819 20:47:25.344878  1156 feature_column.py:1674] Rank of input Tensor (1) should be the same as output_rank (2) for column. Will attempt to expand dims. It is highly recommended that you resize your input, as this behavior may change.\n"
     ]
    },
    {
     "name": "stderr",
     "output_type": "stream",
     "text": [
      "W0819 20:47:25.352856  1156 feature_column.py:1674] Rank of input Tensor (1) should be the same as output_rank (2) for column. Will attempt to expand dims. It is highly recommended that you resize your input, as this behavior may change.\n"
     ]
    },
    {
     "name": "stderr",
     "output_type": "stream",
     "text": [
      "W0819 20:47:25.359838  1156 feature_column.py:1674] Rank of input Tensor (1) should be the same as output_rank (2) for column. Will attempt to expand dims. It is highly recommended that you resize your input, as this behavior may change.\n"
     ]
    },
    {
     "name": "stderr",
     "output_type": "stream",
     "text": [
      "W0819 20:47:25.367819  1156 feature_column.py:1674] Rank of input Tensor (1) should be the same as output_rank (2) for column. Will attempt to expand dims. It is highly recommended that you resize your input, as this behavior may change.\n"
     ]
    },
    {
     "name": "stderr",
     "output_type": "stream",
     "text": [
      "W0819 20:47:25.375796  1156 feature_column.py:1674] Rank of input Tensor (1) should be the same as output_rank (2) for column. Will attempt to expand dims. It is highly recommended that you resize your input, as this behavior may change.\n"
     ]
    },
    {
     "name": "stderr",
     "output_type": "stream",
     "text": [
      "W0819 20:47:25.384772  1156 feature_column.py:1674] Rank of input Tensor (1) should be the same as output_rank (2) for column. Will attempt to expand dims. It is highly recommended that you resize your input, as this behavior may change.\n"
     ]
    },
    {
     "name": "stderr",
     "output_type": "stream",
     "text": [
      "W0819 20:47:25.390754  1156 feature_column.py:1674] Rank of input Tensor (1) should be the same as output_rank (2) for column. Will attempt to expand dims. It is highly recommended that you resize your input, as this behavior may change.\n"
     ]
    },
    {
     "name": "stderr",
     "output_type": "stream",
     "text": [
      "W0819 20:47:25.397737  1156 feature_column.py:1674] Rank of input Tensor (1) should be the same as output_rank (2) for column. Will attempt to expand dims. It is highly recommended that you resize your input, as this behavior may change.\n"
     ]
    },
    {
     "name": "stderr",
     "output_type": "stream",
     "text": [
      "W0819 20:47:25.405716  1156 feature_column.py:1674] Rank of input Tensor (1) should be the same as output_rank (2) for column. Will attempt to expand dims. It is highly recommended that you resize your input, as this behavior may change.\n"
     ]
    },
    {
     "name": "stderr",
     "output_type": "stream",
     "text": [
      "W0819 20:47:25.414693  1156 feature_column.py:1674] Rank of input Tensor (1) should be the same as output_rank (2) for column. Will attempt to expand dims. It is highly recommended that you resize your input, as this behavior may change.\n"
     ]
    },
    {
     "name": "stderr",
     "output_type": "stream",
     "text": [
      "W0819 20:47:25.421671  1156 feature_column.py:1674] Rank of input Tensor (1) should be the same as output_rank (2) for column. Will attempt to expand dims. It is highly recommended that you resize your input, as this behavior may change.\n"
     ]
    },
    {
     "name": "stderr",
     "output_type": "stream",
     "text": [
      "W0819 20:47:25.428655  1156 feature_column.py:1674] Rank of input Tensor (1) should be the same as output_rank (2) for column. Will attempt to expand dims. It is highly recommended that you resize your input, as this behavior may change.\n"
     ]
    },
    {
     "name": "stderr",
     "output_type": "stream",
     "text": [
      "W0819 20:47:25.438631  1156 feature_column.py:1674] Rank of input Tensor (1) should be the same as output_rank (2) for column. Will attempt to expand dims. It is highly recommended that you resize your input, as this behavior may change.\n"
     ]
    },
    {
     "name": "stderr",
     "output_type": "stream",
     "text": [
      "W0819 20:47:32.931826  1156 head.py:2027] Casting <dtype: 'int64'> labels to bool.\n"
     ]
    },
    {
     "name": "stderr",
     "output_type": "stream",
     "text": [
      "W0819 20:47:33.347482  1156 head.py:2027] Casting <dtype: 'int64'> labels to bool.\n"
     ]
    },
    {
     "name": "stderr",
     "output_type": "stream",
     "text": [
      "W0819 20:47:33.478645  1156 metrics_impl.py:804] Trapezoidal rule is known to produce incorrect PR-AUCs; please switch to \"careful_interpolation\" instead.\n"
     ]
    },
    {
     "name": "stderr",
     "output_type": "stream",
     "text": [
      "W0819 20:47:33.520532  1156 metrics_impl.py:804] Trapezoidal rule is known to produce incorrect PR-AUCs; please switch to \"careful_interpolation\" instead.\n"
     ]
    },
    {
     "name": "stderr",
     "output_type": "stream",
     "text": [
      "W0819 20:47:35.349532  1156 deprecation.py:323] From D:\\01.Programming\\PycharmProjects\\Recommenders-movielens\\venv\\lib\\site-packages\\tensorflow\\python\\training\\saver.py:1066: get_checkpoint_mtimes (from tensorflow.python.training.checkpoint_management) is deprecated and will be removed in a future version.\nInstructions for updating:\nUse standard file utilities to get mtimes.\n"
     ]
    },
    {
     "name": "stdout",
     "output_type": "stream",
     "text": [
      "continuous_cols.items() :::  dict_items([('age', <tf.Tensor 'Const:0' shape=(24998,) dtype=int64>), ('release_date', <tf.Tensor 'Const_1:0' shape=(24998,) dtype=int64>), ('genre_unknown', <tf.Tensor 'Const_2:0' shape=(24998,) dtype=int64>), ('action', <tf.Tensor 'Const_3:0' shape=(24998,) dtype=int64>), ('adventure', <tf.Tensor 'Const_4:0' shape=(24998,) dtype=int64>), ('animation', <tf.Tensor 'Const_5:0' shape=(24998,) dtype=int64>), ('children', <tf.Tensor 'Const_6:0' shape=(24998,) dtype=int64>), ('comedy', <tf.Tensor 'Const_7:0' shape=(24998,) dtype=int64>), ('crime', <tf.Tensor 'Const_8:0' shape=(24998,) dtype=int64>), ('documentary', <tf.Tensor 'Const_9:0' shape=(24998,) dtype=int64>), ('drama', <tf.Tensor 'Const_10:0' shape=(24998,) dtype=int64>), ('fantasy', <tf.Tensor 'Const_11:0' shape=(24998,) dtype=int64>), ('film-noir', <tf.Tensor 'Const_12:0' shape=(24998,) dtype=int64>), ('horror', <tf.Tensor 'Const_13:0' shape=(24998,) dtype=int64>), ('musical', <tf.Tensor 'Const_14:0' shape=(24998,) dtype=int64>), ('mystery', <tf.Tensor 'Const_15:0' shape=(24998,) dtype=int64>), ('romance', <tf.Tensor 'Const_16:0' shape=(24998,) dtype=int64>), ('sci-fi', <tf.Tensor 'Const_17:0' shape=(24998,) dtype=int64>), ('thriller', <tf.Tensor 'Const_18:0' shape=(24998,) dtype=int64>), ('war', <tf.Tensor 'Const_19:0' shape=(24998,) dtype=int64>), ('western', <tf.Tensor 'Const_20:0' shape=(24998,) dtype=int64>)])\ncategorical_cols.items() :::  dict_items([('userid', <tensorflow.python.framework.sparse_tensor.SparseTensor object at 0x00000270337BA438>), ('movieid', <tensorflow.python.framework.sparse_tensor.SparseTensor object at 0x00000270339BC2E8>), ('occupation', <tensorflow.python.framework.sparse_tensor.SparseTensor object at 0x000002702FDE4B00>), ('gender', <tensorflow.python.framework.sparse_tensor.SparseTensor object at 0x000002702BED4C18>), ('zip_code', <tensorflow.python.framework.sparse_tensor.SparseTensor object at 0x000002702BED4F60>)])\n"
     ]
    },
    {
     "name": "stderr",
     "output_type": "stream",
     "text": [
      "W0819 20:49:06.222658  1156 feature_column.py:1674] Rank of input Tensor (1) should be the same as output_rank (2) for column. Will attempt to expand dims. It is highly recommended that you resize your input, as this behavior may change.\n"
     ]
    },
    {
     "name": "stderr",
     "output_type": "stream",
     "text": [
      "W0819 20:49:06.229640  1156 feature_column.py:1674] Rank of input Tensor (1) should be the same as output_rank (2) for column. Will attempt to expand dims. It is highly recommended that you resize your input, as this behavior may change.\n"
     ]
    },
    {
     "name": "stderr",
     "output_type": "stream",
     "text": [
      "W0819 20:49:06.241608  1156 feature_column.py:1674] Rank of input Tensor (1) should be the same as output_rank (2) for column. Will attempt to expand dims. It is highly recommended that you resize your input, as this behavior may change.\n"
     ]
    },
    {
     "name": "stderr",
     "output_type": "stream",
     "text": [
      "W0819 20:49:06.249587  1156 feature_column.py:1674] Rank of input Tensor (1) should be the same as output_rank (2) for column. Will attempt to expand dims. It is highly recommended that you resize your input, as this behavior may change.\n"
     ]
    },
    {
     "name": "stderr",
     "output_type": "stream",
     "text": [
      "W0819 20:49:06.255569  1156 feature_column.py:1674] Rank of input Tensor (1) should be the same as output_rank (2) for column. Will attempt to expand dims. It is highly recommended that you resize your input, as this behavior may change.\n"
     ]
    },
    {
     "name": "stderr",
     "output_type": "stream",
     "text": [
      "W0819 20:49:06.263550  1156 feature_column.py:1674] Rank of input Tensor (1) should be the same as output_rank (2) for column. Will attempt to expand dims. It is highly recommended that you resize your input, as this behavior may change.\n"
     ]
    },
    {
     "name": "stderr",
     "output_type": "stream",
     "text": [
      "W0819 20:49:06.269534  1156 feature_column.py:1674] Rank of input Tensor (1) should be the same as output_rank (2) for column. Will attempt to expand dims. It is highly recommended that you resize your input, as this behavior may change.\n"
     ]
    },
    {
     "name": "stderr",
     "output_type": "stream",
     "text": [
      "W0819 20:49:06.275518  1156 feature_column.py:1674] Rank of input Tensor (1) should be the same as output_rank (2) for column. Will attempt to expand dims. It is highly recommended that you resize your input, as this behavior may change.\n"
     ]
    },
    {
     "name": "stderr",
     "output_type": "stream",
     "text": [
      "W0819 20:49:06.282503  1156 feature_column.py:1674] Rank of input Tensor (1) should be the same as output_rank (2) for column. Will attempt to expand dims. It is highly recommended that you resize your input, as this behavior may change.\n"
     ]
    },
    {
     "name": "stderr",
     "output_type": "stream",
     "text": [
      "W0819 20:49:06.290477  1156 feature_column.py:1674] Rank of input Tensor (1) should be the same as output_rank (2) for column. Will attempt to expand dims. It is highly recommended that you resize your input, as this behavior may change.\n"
     ]
    },
    {
     "name": "stderr",
     "output_type": "stream",
     "text": [
      "W0819 20:49:06.298456  1156 feature_column.py:1674] Rank of input Tensor (1) should be the same as output_rank (2) for column. Will attempt to expand dims. It is highly recommended that you resize your input, as this behavior may change.\n"
     ]
    },
    {
     "name": "stderr",
     "output_type": "stream",
     "text": [
      "W0819 20:49:06.304439  1156 feature_column.py:1674] Rank of input Tensor (1) should be the same as output_rank (2) for column. Will attempt to expand dims. It is highly recommended that you resize your input, as this behavior may change.\n"
     ]
    },
    {
     "name": "stderr",
     "output_type": "stream",
     "text": [
      "W0819 20:49:06.311423  1156 feature_column.py:1674] Rank of input Tensor (1) should be the same as output_rank (2) for column. Will attempt to expand dims. It is highly recommended that you resize your input, as this behavior may change.\n"
     ]
    },
    {
     "name": "stderr",
     "output_type": "stream",
     "text": [
      "W0819 20:49:06.319401  1156 feature_column.py:1674] Rank of input Tensor (1) should be the same as output_rank (2) for column. Will attempt to expand dims. It is highly recommended that you resize your input, as this behavior may change.\n"
     ]
    },
    {
     "name": "stderr",
     "output_type": "stream",
     "text": [
      "W0819 20:49:06.325385  1156 feature_column.py:1674] Rank of input Tensor (1) should be the same as output_rank (2) for column. Will attempt to expand dims. It is highly recommended that you resize your input, as this behavior may change.\n"
     ]
    },
    {
     "name": "stderr",
     "output_type": "stream",
     "text": [
      "W0819 20:49:06.333363  1156 feature_column.py:1674] Rank of input Tensor (1) should be the same as output_rank (2) for column. Will attempt to expand dims. It is highly recommended that you resize your input, as this behavior may change.\n"
     ]
    },
    {
     "name": "stderr",
     "output_type": "stream",
     "text": [
      "W0819 20:49:06.339857  1156 feature_column.py:1674] Rank of input Tensor (1) should be the same as output_rank (2) for column. Will attempt to expand dims. It is highly recommended that you resize your input, as this behavior may change.\n"
     ]
    },
    {
     "name": "stderr",
     "output_type": "stream",
     "text": [
      "W0819 20:49:06.347836  1156 feature_column.py:1674] Rank of input Tensor (1) should be the same as output_rank (2) for column. Will attempt to expand dims. It is highly recommended that you resize your input, as this behavior may change.\n"
     ]
    },
    {
     "name": "stderr",
     "output_type": "stream",
     "text": [
      "W0819 20:49:06.354818  1156 feature_column.py:1674] Rank of input Tensor (1) should be the same as output_rank (2) for column. Will attempt to expand dims. It is highly recommended that you resize your input, as this behavior may change.\n"
     ]
    },
    {
     "name": "stderr",
     "output_type": "stream",
     "text": [
      "W0819 20:49:06.362800  1156 feature_column.py:1674] Rank of input Tensor (1) should be the same as output_rank (2) for column. Will attempt to expand dims. It is highly recommended that you resize your input, as this behavior may change.\n"
     ]
    },
    {
     "name": "stderr",
     "output_type": "stream",
     "text": [
      "W0819 20:49:06.369777  1156 feature_column.py:1674] Rank of input Tensor (1) should be the same as output_rank (2) for column. Will attempt to expand dims. It is highly recommended that you resize your input, as this behavior may change.\n"
     ]
    },
    {
     "name": "stderr",
     "output_type": "stream",
     "text": [
      "W0819 20:49:07.805510  1156 head.py:2027] Casting <dtype: 'int64'> labels to bool.\n"
     ]
    },
    {
     "name": "stderr",
     "output_type": "stream",
     "text": [
      "W0819 20:49:08.006972  1156 head.py:2027] Casting <dtype: 'int64'> labels to bool.\n"
     ]
    },
    {
     "name": "stderr",
     "output_type": "stream",
     "text": [
      "W0819 20:49:08.112887  1156 metrics_impl.py:804] Trapezoidal rule is known to produce incorrect PR-AUCs; please switch to \"careful_interpolation\" instead.\n"
     ]
    },
    {
     "name": "stderr",
     "output_type": "stream",
     "text": [
      "W0819 20:49:08.152785  1156 metrics_impl.py:804] Trapezoidal rule is known to produce incorrect PR-AUCs; please switch to \"careful_interpolation\" instead.\n"
     ]
    },
    {
     "name": "stdout",
     "output_type": "stream",
     "text": [
      "accuracy: 0.0600048\naccuracy/baseline_label_mean: 3.5290024\naccuracy/threshold_0.500000_mean: 0.0600048\nauc: 0.0\nauc_precision_recall: 1.0\nglobal_step: 254\nlabels/actual_label_mean: 3.5290024\nlabels/prediction_mean: 1.0\nloss: -24591164.0\nprecision/positive_threshold_0.500000_mean: 1.0\nrecall/positive_threshold_0.500000_mean: 1.0\n"
     ]
    }
   ],
   "source": [
    "m.fit(input_fn=train_input_fn, steps=200)\n",
    "results = m.evaluate(input_fn=eval_input_fn, steps=1)\n",
    "for key in sorted(results):\n",
    "  print(\"%s: %s\" % (key, results[key]))"
   ]
  },
  {
   "cell_type": "code",
   "execution_count": null,
   "metadata": {},
   "outputs": [],
   "source": []
  }
 ],
 "metadata": {
  "kernelspec": {
   "display_name": "Python 2",
   "language": "python",
   "name": "python2"
  },
  "language_info": {
   "codemirror_mode": {
    "name": "ipython",
    "version": 2
   },
   "file_extension": ".py",
   "mimetype": "text/x-python",
   "name": "python",
   "nbconvert_exporter": "python",
   "pygments_lexer": "ipython2",
   "version": "2.7.6"
  }
 },
 "nbformat": 4,
 "nbformat_minor": 0
}
